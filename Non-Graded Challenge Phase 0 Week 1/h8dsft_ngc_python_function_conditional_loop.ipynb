{
  "nbformat": 4,
  "nbformat_minor": 0,
  "metadata": {
    "colab": {
      "provenance": [],
      "toc_visible": true
    },
    "kernelspec": {
      "name": "python3",
      "display_name": "Python 3"
    },
    "language_info": {
      "name": "python"
    }
  },
  "cells": [
    {
      "cell_type": "markdown",
      "source": [
        "## Non-Graded Challenge 2\n",
        "\n",
        "### Nama   : Aisya Rafa Maharani\n",
        "### Batch  : 028 RMT"
      ],
      "metadata": {
        "id": "vgF9RPEccpHp"
      }
    },
    {
      "cell_type": "markdown",
      "source": [
        "# Task #1"
      ],
      "metadata": {
        "id": "Wd5daJrocsBg"
      }
    },
    {
      "cell_type": "code",
      "source": [
        "def number_of_word():\n",
        "  '''\n",
        "  Fungsi number_of_word adalah untuk menghitung\n",
        "  jumlah kata didalam suatu kalimat\n",
        "  '''\n",
        "  kalimat = input(\"Masukkan kalimat: \") # meminta input dari user berupa kalimat\n",
        "  kata = kalimat.split() # Memisahkan kalimat menjadi kata per kata\n",
        "  jumlah_kata = len(kata) # Menghitung jumlah kata\n",
        "  return jumlah_kata # Mereturn jumlah kata untuk fungsi number_of_word"
      ],
      "metadata": {
        "id": "Zy41HtSicvix"
      },
      "execution_count": 9,
      "outputs": []
    },
    {
      "cell_type": "code",
      "source": [
        "number_of_word() # Menjalankan fungsi number_of_word"
      ],
      "metadata": {
        "colab": {
          "base_uri": "https://localhost:8080/"
        },
        "id": "v89W3FO5guE2",
        "outputId": "414bb5c2-ef51-4384-e8fc-81a506159f69"
      },
      "execution_count": 10,
      "outputs": [
        {
          "name": "stdout",
          "output_type": "stream",
          "text": [
            "Masukkan kalimat: Hello World!\n"
          ]
        },
        {
          "output_type": "execute_result",
          "data": {
            "text/plain": [
              "2"
            ]
          },
          "metadata": {},
          "execution_count": 10
        }
      ]
    },
    {
      "cell_type": "code",
      "source": [
        "number_of_word() # Menjalankan fungsi number_of_word"
      ],
      "metadata": {
        "colab": {
          "base_uri": "https://localhost:8080/"
        },
        "id": "bgcK_YIUg0D0",
        "outputId": "685888fc-eea0-4a92-e6fb-ed350977feb7"
      },
      "execution_count": 11,
      "outputs": [
        {
          "name": "stdout",
          "output_type": "stream",
          "text": [
            "Masukkan kalimat: Once Upon a Time in a faraway land\n"
          ]
        },
        {
          "output_type": "execute_result",
          "data": {
            "text/plain": [
              "8"
            ]
          },
          "metadata": {},
          "execution_count": 11
        }
      ]
    },
    {
      "cell_type": "markdown",
      "source": [
        "# Task #2"
      ],
      "metadata": {
        "id": "7dFIlS2wg7qZ"
      }
    },
    {
      "cell_type": "code",
      "source": [
        "def find_multiples():\n",
        "  '''\n",
        "  Fungsi find_multiples adalah untuk mencari perkalian dari suatu\n",
        "  nilai dalam range tertentu.\n",
        "  '''\n",
        "  start_range = int(input(\"Masukkan nilai awal untuk range: \")) # Meminta nilai untuk value range awal (range dimulai dari nilai berapa)\n",
        "  end_range = int(input(\"Masukkan nilai akhir untuk range: \")) # Meminta nilai untuk value range akhir (range berakhir pada nilai berapa)\n",
        "  multiple = int(input(\"Masukkan nilai perkalian yang ingin dicari: \")) # Meminta nilai untuk dicari perkalian nya di dalam range\n",
        "\n",
        "  multiples = [] # Membuat list kosong untuk menyimpan perkalian nya\n",
        "\n",
        "  for nilai in range(start_range, end_range +1):\n",
        "  # For loop digunakan untuk mencari perkalian dalam range\n",
        "  # end_range + 1 agar nilai terakhir dari end_range masih tetap dihitung\n",
        "    if nilai % multiple == 0:\n",
        "    # Mengecek apakah nilai dalam range habis dibagi dengan nilai kali nya\n",
        "      multiples.append(nilai)\n",
        "      # Jika habis, berarti nilai tersebut adalah perkalian dari variabel multiple\n",
        "      # Nilai tersebut akan dimasukkan ke dalam list multiples\n",
        "\n",
        "  return multiples # Mereturn list multiples"
      ],
      "metadata": {
        "id": "bce9Nn3gg-KN"
      },
      "execution_count": 13,
      "outputs": []
    },
    {
      "cell_type": "code",
      "source": [
        "find_multiples() # Memanggil fungsi find_multiples"
      ],
      "metadata": {
        "colab": {
          "base_uri": "https://localhost:8080/"
        },
        "id": "PHB8KOxUmiXZ",
        "outputId": "d3e66ea0-b637-4e56-9b15-2cb169423fbc"
      },
      "execution_count": 14,
      "outputs": [
        {
          "name": "stdout",
          "output_type": "stream",
          "text": [
            "Masukkan nilai awal untuk range: 1\n",
            "Masukkan nilai akhir untuk range: 20\n",
            "Masukkan nilai perkalian yang ingin dicari: 5\n"
          ]
        },
        {
          "output_type": "execute_result",
          "data": {
            "text/plain": [
              "[5, 10, 15, 20]"
            ]
          },
          "metadata": {},
          "execution_count": 14
        }
      ]
    },
    {
      "cell_type": "code",
      "source": [
        "find_multiples() # Memanggil fungsi find_multiples"
      ],
      "metadata": {
        "colab": {
          "base_uri": "https://localhost:8080/"
        },
        "id": "-COLscafmvEZ",
        "outputId": "38be7afe-707f-4f52-e4e2-ab756539fad4"
      },
      "execution_count": 15,
      "outputs": [
        {
          "name": "stdout",
          "output_type": "stream",
          "text": [
            "Masukkan nilai awal untuk range: 1\n",
            "Masukkan nilai akhir untuk range: 50\n",
            "Masukkan nilai perkalian yang ingin dicari: 10\n"
          ]
        },
        {
          "output_type": "execute_result",
          "data": {
            "text/plain": [
              "[10, 20, 30, 40, 50]"
            ]
          },
          "metadata": {},
          "execution_count": 15
        }
      ]
    },
    {
      "cell_type": "markdown",
      "source": [
        "# Task #3"
      ],
      "metadata": {
        "id": "YsCLyW43m49r"
      }
    },
    {
      "cell_type": "code",
      "source": [
        "def score_to_letter(score):\n",
        "  '''\n",
        "  Fungsi ini berguna untuk mengkonversi score menjadi letter grade.\n",
        "  '''\n",
        "\n",
        "  if score >= 85: # Jika score lebih dari sama dengan 85, maka letter grade adalah A\n",
        "    return \"A\"\n",
        "  elif score >= 70 and score < 85: # Jika score lebih dari sama dengan 70 dan kurang dari 85, maka letter grade adalah B\n",
        "    return \"B\"\n",
        "  elif score >= 60 and score < 70: # Jika score lebih dari sama dengan 60 dan kurang dari 70, maka letter grade adalah C\n",
        "    return \"C\"\n",
        "  elif score >= 50 and score < 60: # Jika score lebih dari sama dengan 50 dan kurang dari 60, maka letter grade adalah D\n",
        "    return \"D\"\n",
        "  elif score >= 40 and score < 50: # Jika score lebih dari sama dengan 40 dan kurang dari 50, maka letter grade adalah E\n",
        "    return \"E\"\n",
        "  else: # Jika core kurang dari 40 maka letter grade adalah F\n",
        "    return \"F\""
      ],
      "metadata": {
        "id": "_-ON0PqTDLqk"
      },
      "execution_count": 19,
      "outputs": []
    },
    {
      "cell_type": "code",
      "source": [
        "def letter_to_GPA(letter):\n",
        "  '''\n",
        "  Fungsi ini berguna untuk mengkonversi letter grade menjadi GPA\n",
        "  '''\n",
        "\n",
        "  # Membuat dictionary convert_to_GPA untuk menyimpan pasangan letter grade dan GPA\n",
        "  convert_to_GPA = {\"A\": 4,\n",
        "            \"B\": 3,\n",
        "            \"C\": 2.5,\n",
        "            \"D\": 2,\n",
        "            \"E\": 1.5,\n",
        "            \"F\": 1}\n",
        "  # Melakukan return dengan mengembalikan nilai GPA hasil konversi dari letter grade oleh .get()\n",
        "  # Jika letter grade tidak ditemukan pada dictionary, maka .get() akan mengembalikan \"letter grade yang dimasukkan salah\"\n",
        "  return convert_to_GPA.get(letter, \"letter grade yang dimasukkan salah\")"
      ],
      "metadata": {
        "id": "z2PUkiuoEhP5"
      },
      "execution_count": 20,
      "outputs": []
    },
    {
      "cell_type": "code",
      "source": [
        "def grade_converter(convert, **kwargs):\n",
        "  '''\n",
        "  Fungsi grade_converter adalah yang akan dipanggil oleh user.\n",
        "  Pada fungsi ini, user dapat memilih ingin mengkonversi score\n",
        "  ke letter grade atau ke GPA.\n",
        "  '''\n",
        "\n",
        "  hasil_nilai = {} # Membuat dictionary kosong yang akan menyimpan data nama siswa beserta hasil konversi nilai nya\n",
        "\n",
        "  for nama_siswa, nilai in kwargs.items():\n",
        "  # For loop untuk mengkonversi nilai\n",
        "  # kwargs adalah dictionary yang menyimpan pasangan key-value dan .items() adalah metode yang dapat mengembalikan isi dari dictionary\n",
        "    if convert.lower() == \"letter_grade\": # Jika user memilih letter grade\n",
        "      hasil_nilai[nama_siswa] = score_to_letter(nilai) # Fungsi score-to_letter akan dipanggil untuk mengkonversi semua nilai siswa yang ada pada dictionary menjadi letter grade\n",
        "    elif convert.lower() == \"gpa\": # Jika user memilih GPA\n",
        "      letter_grade = score_to_letter(nilai) # Fungsi score-to_letter akan dipanggil untuk mengkonversi semua nilai siswa yang ada pada dictionary menjadi letter grade\n",
        "      hasil_nilai[nama_siswa] = letter_to_GPA(letter_grade) # Fungsi letter_to_GPA akan dipanggil untuk mengkonversi semua letter grade siswa yang ada pada dictionary menjadi GPA\n",
        "    else: # Jika input user bukan letter grade atau GPA, maka akan memberi tahu user bahwa input salah\n",
        "      print(\"Input salah. Pilih antara konversi ke letter grade atau GPA\")\n",
        "  return hasil_nilai # Mereturn fungsi hasil_nilai sesuai dengan konversi yang dipilih"
      ],
      "metadata": {
        "id": "y98iAIPBm7g4"
      },
      "execution_count": 23,
      "outputs": []
    },
    {
      "cell_type": "code",
      "source": [
        "grade_converter(convert='gpa', Adam=62, Faiz=91)"
      ],
      "metadata": {
        "colab": {
          "base_uri": "https://localhost:8080/"
        },
        "id": "3L-TT0aeQN43",
        "outputId": "a756ffcd-b823-422e-c79b-b729ff95c0b5"
      },
      "execution_count": 24,
      "outputs": [
        {
          "output_type": "execute_result",
          "data": {
            "text/plain": [
              "{'Adam': 2.5, 'Faiz': 4}"
            ]
          },
          "metadata": {},
          "execution_count": 24
        }
      ]
    },
    {
      "cell_type": "code",
      "source": [
        "grade_converter(convert='letter_grade', Albert=90, Dwi=82, Syahdan=58, Veronica=84)"
      ],
      "metadata": {
        "colab": {
          "base_uri": "https://localhost:8080/"
        },
        "id": "_z58xZWkY_Tu",
        "outputId": "617f6860-da7b-4408-a74b-b97392b2b437"
      },
      "execution_count": 25,
      "outputs": [
        {
          "output_type": "execute_result",
          "data": {
            "text/plain": [
              "{'Albert': 'A', 'Dwi': 'B', 'Syahdan': 'D', 'Veronica': 'B'}"
            ]
          },
          "metadata": {},
          "execution_count": 25
        }
      ]
    },
    {
      "cell_type": "markdown",
      "source": [
        "# Task #4"
      ],
      "metadata": {
        "id": "Dnxk2IfzZe-r"
      }
    },
    {
      "cell_type": "markdown",
      "source": [
        "Fibonacci adalah urutan angka di mana setiap angka setelah dua angka pertama adalah jumlah dari dua angka sebelumnya. Contoh: 0, 1, 1, 2, 3, 5, 8, 13, ...\n",
        "\n",
        "0 pada index-0 dan 1 pada index-1 adalah angka awal yang selalu tetap nilainya."
      ],
      "metadata": {
        "id": "VrMHpOtkkOc-"
      }
    },
    {
      "cell_type": "code",
      "source": [
        "def fibonacci(n):\n",
        "  '''\n",
        "  Fungsi fibonacci ini adalah fungsi yang akan mencari nilai fibonacci\n",
        "  dari index ke-n.\n",
        "  '''\n",
        "\n",
        "  # Inisialisasi dua angka pertama dalam fibonacci\n",
        "  a = 0 # Inisialisasi variabel a adalah 0 (index ke-0)\n",
        "  b = 1 # Inisialisasi variabel b adalah 1 (index ke-1)\n",
        "\n",
        "  for i in range(n): # For loop dengan banyak iterasi nya tergantung pada nilai n\n",
        "    current_value_a = a # Menyimpan nilai dari variabel a saat ini\n",
        "    a = b # Setiap iterasi, variabel a berubah menjadi variabel b (angka berikutnya dalam urutan fibonacci)\n",
        "    b = current_value_a + b\n",
        "    # Setiap iterasi, value variabel b berubah menjadi penjumlahan dari nilai variabel a yang lama dengan nilai variabel b saat ini\n",
        "    '''\n",
        "    Setiap iterasi, variabel a dan b akan berubah menjadi nilai baru.\n",
        "    Variabel a akan menjadi angka ke-i dan variabel b akan menjadi angka\n",
        "    ke-i+1.\n",
        "\n",
        "    Contoh:\n",
        "    n = 3\n",
        "\n",
        "    n = 0, a = 0\n",
        "    n = 1, a = 1, b = 0 + 1 = 1\n",
        "    n = 2, a = 1, b = 1 + 1 = 2\n",
        "    n = 3, a = 2, b = 1 + 2 = 3\n",
        "\n",
        "    Maka untuk mencari nilai fibonacci untuk index ke-n, kita hanya\n",
        "    perlu melihat nilai dari variabel a. Sementara nilai dari variabel\n",
        "    b adalah untuk menghitung nilai fibonacci berikutnya.\n",
        "    '''\n",
        "\n",
        "  return a # Mereturn variabel a karena variabel a berada pada nilai fibonacci dengan index ke-n"
      ],
      "metadata": {
        "id": "srZZjewAZhjR"
      },
      "execution_count": 28,
      "outputs": []
    },
    {
      "cell_type": "code",
      "source": [
        "def cari_fibonacci():\n",
        "  '''\n",
        "  Fungsi cari fibonacci adalah fungsi yang akan memberikan user nilai\n",
        "  fibonacci dari index ke-n.\n",
        "  '''\n",
        "\n",
        "  try: # Menggunakan try except untuk meminimalisir error\n",
        "    n = int(input(\"Masukkan index ke-n untuk dicarikan nilai fibonacci nya: \"))\n",
        "    # Meminta input ke user berupa index ke-n untuk dicarikan nilai fibonacci nya\n",
        "    if n < 0:\n",
        "    # Jika input n dari user negatif maka user akan diberi tahu untuk mencoba ulang\n",
        "    # Index ke-n tidak boleh negatif\n",
        "      print(\"Index ke-n tidak boleh negatif. Coba input lagi.\")\n",
        "    else:\n",
        "    # Jika input n dari user benar, maka akan memanggil fungsi fibonacci(n)\n",
        "    # Fungsi fibonacci(n) akan mencarikan nilai fibonacci dari index ke-n\n",
        "      nilai_fibonacci = fibonacci(n)\n",
        "      print(f\"nilai fibonacci dari index ke-{n} adalah {nilai_fibonacci}\") # Menampilkan nilai fibonacci dari index ke-n\n",
        "  except ValueError: # Jika user salah menginput nilai, maka akan diberi tahu agar dapat menginput ulang\n",
        "    print(\"Index ke-n harus bilangan bulat. Coba input lagi.\")"
      ],
      "metadata": {
        "id": "eFzPsuwoqAIj"
      },
      "execution_count": 37,
      "outputs": []
    },
    {
      "cell_type": "code",
      "source": [
        "cari_fibonacci()"
      ],
      "metadata": {
        "colab": {
          "base_uri": "https://localhost:8080/"
        },
        "id": "RTnGp_0IrnNg",
        "outputId": "71a86463-e568-4bb9-a242-d21f05998f1f"
      },
      "execution_count": 38,
      "outputs": [
        {
          "output_type": "stream",
          "name": "stdout",
          "text": [
            "Masukkan index ke-n untuk dicarikan nilai fibonacci nya: 0\n",
            "nilai fibonacci dari index ke-0 adalah 0\n"
          ]
        }
      ]
    },
    {
      "cell_type": "code",
      "source": [
        "cari_fibonacci()"
      ],
      "metadata": {
        "colab": {
          "base_uri": "https://localhost:8080/"
        },
        "id": "WPDq0YtAruob",
        "outputId": "a2ff7211-3106-4536-8d24-0307f536ad5f"
      },
      "execution_count": 39,
      "outputs": [
        {
          "output_type": "stream",
          "name": "stdout",
          "text": [
            "Masukkan index ke-n untuk dicarikan nilai fibonacci nya: 4\n",
            "nilai fibonacci dari index ke-4 adalah 3\n"
          ]
        }
      ]
    },
    {
      "cell_type": "code",
      "source": [
        "cari_fibonacci()"
      ],
      "metadata": {
        "colab": {
          "base_uri": "https://localhost:8080/"
        },
        "id": "5nnqt-Bcrwnd",
        "outputId": "f57968b0-adfd-474a-cd38-f5a8ed418786"
      },
      "execution_count": 40,
      "outputs": [
        {
          "output_type": "stream",
          "name": "stdout",
          "text": [
            "Masukkan index ke-n untuk dicarikan nilai fibonacci nya: 10\n",
            "nilai fibonacci dari index ke-10 adalah 55\n"
          ]
        }
      ]
    }
  ]
}