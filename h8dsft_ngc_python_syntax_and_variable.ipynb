{
  "nbformat": 4,
  "nbformat_minor": 0,
  "metadata": {
    "colab": {
      "provenance": [],
      "toc_visible": true
    },
    "kernelspec": {
      "name": "python3",
      "display_name": "Python 3"
    },
    "language_info": {
      "name": "python"
    }
  },
  "cells": [
    {
      "cell_type": "markdown",
      "source": [
        "## Non-Graded Challenge 1\n",
        "\n",
        "### Nama   : Aisya Rafa Maharani\n",
        "### Batch  : 028 RMT"
      ],
      "metadata": {
        "id": "jerkCfhMQ83y"
      }
    },
    {
      "cell_type": "markdown",
      "source": [
        "# Task #1"
      ],
      "metadata": {
        "id": "k7zTxNPHUWVO"
      }
    },
    {
      "cell_type": "code",
      "source": [
        "# Membuat list dengan nama customer_id dengan isi dari list adalah id dari customer\n",
        "customer_id = ['B818', 'A461', 'A092', 'A082', 'B341', 'A005', 'A092', 'A461',\n",
        "               'B219', 'B904', 'A901', 'A083', 'B904', 'A092', 'B341', 'B821',\n",
        "               'B341', 'B821', 'B904', 'B818', 'A901', 'A083', 'B818', 'A082',\n",
        "               'B219', 'B219', 'A083', 'A901', 'A082', 'B341', 'B341', 'A083',\n",
        "               'A082', 'B219', 'B439', 'A461', 'A005', 'A901', 'B341', 'A082',\n",
        "               'A083', 'A461', 'A083', 'A901', 'A461', 'A083', 'A082', 'A083',\n",
        "               'B341', 'A901', 'A082', 'A461', 'B219', 'A083', 'B818', 'B821',\n",
        "               'A092', 'B341', 'A461', 'A092', 'A083', 'B821', 'A092']\n"
      ],
      "metadata": {
        "id": "eJ95aGnMRiKa"
      },
      "execution_count": 21,
      "outputs": []
    },
    {
      "cell_type": "code",
      "source": [
        "# Memeriksa apakah ada id customer yang sama, dengan melihat panjang list\n",
        "# len(customer_id) adalah list yang apa adanya\n",
        "# len(set(customer_id)) menggunakan set agar isi dari list menjadi unique semua (gada yang sama)\n",
        "len(customer_id) == len(set(customer_id))"
      ],
      "metadata": {
        "colab": {
          "base_uri": "https://localhost:8080/"
        },
        "id": "tPMwWsb-SPCI",
        "outputId": "ce3732ea-93de-4a53-8171-14e8b1bcb92a"
      },
      "execution_count": 19,
      "outputs": [
        {
          "output_type": "execute_result",
          "data": {
            "text/plain": [
              "False"
            ]
          },
          "metadata": {},
          "execution_count": 19
        }
      ]
    },
    {
      "cell_type": "markdown",
      "source": [
        "Hasil running adalah false, berarti panjang list yang apa adanya tidak sama dengan panjang list yang sudah diubah semua menjadi unique. Maka dapat disimpulkan bahwa terdapat id customer yang sama\n",
        "\n",
        "\n",
        "\n",
        "\n"
      ],
      "metadata": {
        "id": "r72qF6d9TerU"
      }
    },
    {
      "cell_type": "code",
      "source": [
        "# Jumlah customer id yang unique\n",
        "len(set(customer_id))"
      ],
      "metadata": {
        "colab": {
          "base_uri": "https://localhost:8080/"
        },
        "id": "mY11DeeaTYj4",
        "outputId": "17dbd97c-611b-4353-83ff-bf05b358951d"
      },
      "execution_count": 20,
      "outputs": [
        {
          "output_type": "execute_result",
          "data": {
            "text/plain": [
              "12"
            ]
          },
          "metadata": {},
          "execution_count": 20
        }
      ]
    },
    {
      "cell_type": "markdown",
      "source": [
        "Maka, dapat disimpulkan bahwa customer id yang unique berjumlah 12"
      ],
      "metadata": {
        "id": "ah-O-l2lULvn"
      }
    },
    {
      "cell_type": "markdown",
      "source": [
        "# Task #2"
      ],
      "metadata": {
        "id": "7tWrTAGNUgxZ"
      }
    },
    {
      "cell_type": "code",
      "source": [
        "# Membuat list dengan nama Data dan isinya adalah angka-angka\n",
        "Data = [1, 4, 9, 16, 25, 36, 49,  64, 81, 100]"
      ],
      "metadata": {
        "id": "NVZC5sz6UjC9"
      },
      "execution_count": 8,
      "outputs": []
    },
    {
      "cell_type": "code",
      "source": [
        "# Mengambil list dengan index ke-3 yaitu 16\n",
        "Data[3]"
      ],
      "metadata": {
        "colab": {
          "base_uri": "https://localhost:8080/"
        },
        "id": "-ec_yOB0VYnD",
        "outputId": "8bef003c-5a14-4fb0-e482-a5b4414bc068"
      },
      "execution_count": 12,
      "outputs": [
        {
          "output_type": "execute_result",
          "data": {
            "text/plain": [
              "16"
            ]
          },
          "metadata": {},
          "execution_count": 12
        }
      ]
    },
    {
      "cell_type": "code",
      "source": [
        "# Mengambil list dengan index ke-5 sampai ke-8\n",
        "Data[5:9]"
      ],
      "metadata": {
        "colab": {
          "base_uri": "https://localhost:8080/"
        },
        "id": "kHTYFyW8WHEa",
        "outputId": "06d38b5e-0b3c-4f53-e530-3eaaeb38f8f2"
      },
      "execution_count": 14,
      "outputs": [
        {
          "output_type": "execute_result",
          "data": {
            "text/plain": [
              "[36, 49, 64, 81]"
            ]
          },
          "metadata": {},
          "execution_count": 14
        }
      ]
    },
    {
      "cell_type": "code",
      "source": [
        "# Mengambil list dari belakang\n",
        "# :: artinya mengambil semua isi dari list\n",
        "# -1 artinya diambil dari data paling belakang\n",
        "Data[::-1]"
      ],
      "metadata": {
        "colab": {
          "base_uri": "https://localhost:8080/"
        },
        "id": "iH8iFMbYYMw7",
        "outputId": "2b56ef70-f001-42b9-e4e8-fc02729f2f7c"
      },
      "execution_count": 17,
      "outputs": [
        {
          "output_type": "execute_result",
          "data": {
            "text/plain": [
              "[100, 81, 64, 49, 36, 25, 16, 9, 4, 1]"
            ]
          },
          "metadata": {},
          "execution_count": 17
        }
      ]
    },
    {
      "cell_type": "markdown",
      "source": [
        "# Task #3"
      ],
      "metadata": {
        "id": "21R6gfudZVuq"
      }
    },
    {
      "cell_type": "code",
      "source": [
        "# Membuat dictionary provinsi\n",
        "# Key nya adalah nama provinsi\n",
        "# Value adalah nama ibukota dari provinsi tersebut\n",
        "provinsi = {'Nanggroe Aceh Darussalam': 'Aceh',\n",
        "            'Sumatera Selatan': 'Palembang',\n",
        "            'Kalimantan Barat': 'Pontianak',\n",
        "            'Jawa Timur': 'Madiun',\n",
        "            'Sulawesi Selatan': 'Makassar',\n",
        "            'Maluku': 'Ambon'}"
      ],
      "metadata": {
        "id": "YAHLo0DmZYP6"
      },
      "execution_count": 22,
      "outputs": []
    },
    {
      "cell_type": "code",
      "source": [
        "# Meminta list yang isinya adalah semua key dari dictionary\n",
        "provinsi.keys()"
      ],
      "metadata": {
        "colab": {
          "base_uri": "https://localhost:8080/"
        },
        "id": "DAHhHllbaNvK",
        "outputId": "e65793be-1232-49fe-b0bf-b2c48087a267"
      },
      "execution_count": 24,
      "outputs": [
        {
          "output_type": "execute_result",
          "data": {
            "text/plain": [
              "dict_keys(['Nanggroe Aceh Darussalam', 'Sumatera Selatan', 'Kalimantan Barat', 'Jawa Timur', 'Sulawesi Selatan', 'Maluku'])"
            ]
          },
          "metadata": {},
          "execution_count": 24
        }
      ]
    },
    {
      "cell_type": "code",
      "source": [
        "# Mengganti value dari key Jawa Timur, dari Madiun menjadi Surabaya\n",
        "provinsi['Jawa Timur'] = 'Surabaya'\n",
        "\n",
        "# Melihat isi dari dictionary provinsi\n",
        "provinsi"
      ],
      "metadata": {
        "colab": {
          "base_uri": "https://localhost:8080/"
        },
        "id": "5ZFyJAX6bfLR",
        "outputId": "bd5a5f9a-47bf-4f62-b6ff-bd72c388a305"
      },
      "execution_count": 27,
      "outputs": [
        {
          "output_type": "execute_result",
          "data": {
            "text/plain": [
              "{'Nanggroe Aceh Darussalam': 'Aceh',\n",
              " 'Sumatera Selatan': 'Palembang',\n",
              " 'Kalimantan Barat': 'Pontianak',\n",
              " 'Jawa Timur': 'Surabaya',\n",
              " 'Sulawesi Selatan': 'Makassar',\n",
              " 'Maluku': 'Ambon'}"
            ]
          },
          "metadata": {},
          "execution_count": 27
        }
      ]
    }
  ]
}